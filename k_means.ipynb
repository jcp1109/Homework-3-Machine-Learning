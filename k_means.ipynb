{
 "cells": [
  {
   "cell_type": "code",
   "execution_count": null,
   "metadata": {},
   "outputs": [],
   "source": [
    "import pandas as pd\n",
    "import numpy as np"
   ]
  },
  {
   "cell_type": "code",
   "execution_count": null,
   "metadata": {},
   "outputs": [],
   "source": [
    "data_df = pd.read_csv('data.csv', header= None)\n",
    "label_df = pd.read_csv('label.csv', header= None)"
   ]
  },
  {
   "cell_type": "code",
   "execution_count": null,
   "metadata": {},
   "outputs": [],
   "source": [
    "data_df = pd.DataFrame(data_df)\n",
    "label_df = pd.DataFrame(label_df)"
   ]
  },
  {
   "cell_type": "code",
   "execution_count": null,
   "metadata": {},
   "outputs": [],
   "source": [
    "data_df = np.array(data_df)\n",
    "label_df = np.array(label_df)"
   ]
  },
  {
   "cell_type": "code",
   "execution_count": null,
   "metadata": {},
   "outputs": [],
   "source": [
    "\n",
    "import math\n",
    "\n",
    "def _popcnt(v):\n",
    "\tc = 0\n",
    "\twhile v:\n",
    "\t\tv &= v - 1\n",
    "\t\tc += 1\n",
    "\treturn c\n",
    "def _bit_length(x):\n",
    "\treturn len(bin(x))-2\n",
    "try:\n",
    "\tint(0).bit_length()\n",
    "\t_bit_length = lambda x: x.bit_length()\n",
    "except:\n",
    "\tpass\n",
    "\n",
    "def ham_dist(x,y):\n",
    "\treturn _popcnt(x^y)\n",
    "def ham_centers_factory(data):\n",
    "\n",
    "\tl = max((_bit_length(d) for d in data))\n",
    "\tbuckets = [0]*l\n",
    "\tbits = map(lambda i: 1<<i,range(l))\n",
    "\tfor d in data:\n",
    "\t\tfor i,two_to_the_i in enumerate(bits):\n",
    "\t\t\tif d&two_to_the_i:\n",
    "\t\t\t\tbuckets[i] += 1\n",
    "\t\t\telse:\n",
    "\t\t\t\tbuckets[i] -= 1\n",
    "\treturn reduce(\n",
    "\t\tlambda accum,x: accum|(x[1]>0)*bits[x[0]],\n",
    "\t\tenumerate(buckets),\n",
    "\t\t0\n",
    "\t)\n",
    "\n",
    "def euc_dist(x,y):\n",
    "\treturn sum((math.pow(x[i]-y[i],2) for i in range(len(x))))\n",
    "def euc_centers_factory(data):\n",
    "\tdim = len(data[0])\n",
    "\tn = len(data)\n",
    "\tsums = [sum((data[j][i] for j in range(n))) for i in range(dim)]\n",
    "\treturn [float(s)/n for s in sums]\n",
    "\n",
    "def kmeans(data,centers,distf,centersdf,cutoff):\n",
    "\n",
    "\tk = len(centers)\n",
    "\twhile True:\n",
    "\t\tdistances = [map(lambda x: distf(x,y),centers) for y in data]\n",
    "\t\tdata_to_centroids = [min(enumerate(x),key=lambda x:x[1])[0] for x in distances]\n",
    "\t\t\n",
    "\t\tnew_centroids = map(\n",
    "\t\t\tcentersdf, \n",
    "\t\t\t[\n",
    "\t\t\t\tmap(\n",
    "\t\t\t\t\tlambda x: data[x[0]], \n",
    "\t\t\t\t\tfilter(\n",
    "\t\t\t\t\t\tlambda x: x[1]==y,\n",
    "\t\t\t\t\t\tenumerate(data_to_centroids)\n",
    "\t\t\t\t\t) \n",
    "\t\t\t\t)\n",
    "\t\t\t\tfor y in range(k)\n",
    "\t\t\t]\n",
    "\t\t)\n",
    "\t\t\n",
    "\t\tchanges = [distf(new_centroids[i],centers[i]) for i in range(k)]\n",
    "\t\t\n",
    "\t\tif max(changes)<=cutoff:\n",
    "\t\t\treturn centers,data_to_centroids,distances\n",
    "\t\t\n",
    "\t\tcenters = new_centroids\n",
    "\n",
    "def kmeans_euc(data,centers,cutoff):\n",
    "\treturn kmeans(data,centers,euc_dist,euc_centers_factory,cutoff)\n",
    "\n",
    "def kmeans_ham(data,centers,cutoff):\n",
    "\treturn kmeans(data,centers,ham_dist,ham_centers_factory,cutoff)"
   ]
  },
  {
   "cell_type": "code",
   "execution_count": null,
   "metadata": {},
   "outputs": [],
   "source": [
    "kmeans_euc(data_df, label_df, 0.1)\n",
    "kmeans_ham(data_df, label_df, 0.1)"
   ]
  }
 ],
 "metadata": {
  "kernelspec": {
   "display_name": "Python 3",
   "language": "python",
   "name": "python3"
  },
  "language_info": {
   "codemirror_mode": {
    "name": "ipython",
    "version": 3
   },
   "file_extension": ".py",
   "mimetype": "text/x-python",
   "name": "python",
   "nbconvert_exporter": "python",
   "pygments_lexer": "ipython3",
   "version": "3.10.0"
  },
  "orig_nbformat": 4
 },
 "nbformat": 4,
 "nbformat_minor": 2
}
