{
 "cells": [
  {
   "cell_type": "code",
   "execution_count": 1,
   "metadata": {},
   "outputs": [],
   "source": [
    "import pandas as pd\n",
    "import numpy as np"
   ]
  },
  {
   "cell_type": "code",
   "execution_count": 2,
   "metadata": {},
   "outputs": [],
   "source": [
    "data_df = pd.read_csv('data.csv', header= None)\n",
    "label_df = pd.read_csv('label.csv', header= None)"
   ]
  },
  {
   "cell_type": "code",
   "execution_count": 3,
   "metadata": {},
   "outputs": [],
   "source": [
    "data_df = pd.DataFrame(data_df)\n",
    "label_df = pd.DataFrame(label_df)"
   ]
  },
  {
   "cell_type": "code",
   "execution_count": 4,
   "metadata": {},
   "outputs": [],
   "source": [
    "data_df = np.array(data_df)\n",
    "label_df = np.array(label_df)"
   ]
  },
  {
   "cell_type": "code",
   "execution_count": 1,
   "metadata": {},
   "outputs": [],
   "source": [
    "\n",
    "import math\n",
    "\n",
    "def _popcnt(v):\n",
    "\tc = 0\n",
    "\twhile v:\n",
    "\t\tv &= v - 1\n",
    "\t\tc += 1\n",
    "\treturn c\n",
    "def _bit_length(x):\n",
    "\treturn len(bin(x))-2\n",
    "try:\n",
    "\tint(0).bit_length()\n",
    "\t_bit_length = lambda x: x.bit_length()\n",
    "except:\n",
    "\tpass\n",
    "\n",
    "def ham_dist(x,y):\n",
    "\treturn _popcnt(x^y)\n",
    "def ham_centers_factory(data):\n",
    "\n",
    "\tl = max((_bit_length(d) for d in data))\n",
    "\tbuckets = [0]*l\n",
    "\tbits = map(lambda i: 1<<i,range(l))\n",
    "\tfor d in data:\n",
    "\t\tfor i,two_to_the_i in enumerate(bits):\n",
    "\t\t\tif d&two_to_the_i:\n",
    "\t\t\t\tbuckets[i] += 1\n",
    "\t\t\telse:\n",
    "\t\t\t\tbuckets[i] -= 1\n",
    "\treturn reduce(\n",
    "\t\tlambda accum,x: accum|(x[1]>0)*bits[x[0]],\n",
    "\t\tenumerate(buckets),\n",
    "\t\t0\n",
    "\t)\n",
    "\n",
    "def euc_dist(x,y):\n",
    "\treturn sum((math.pow(x[i]-y[i],2) for i in range(len(x))))\n",
    "def euc_centers_factory(data):\n",
    "\tdim = len(data[0])\n",
    "\tn = len(data)\n",
    "\tsums = [sum((data[j][i] for j in range(n))) for i in range(dim)]\n",
    "\treturn [float(s)/n for s in sums]\n",
    "\n",
    "def kmeans(data,centers,distf,centersdf,cutoff):\n",
    "\n",
    "\tk = len(centers)\n",
    "\twhile True:\n",
    "\t\tdistances = [map(lambda x: distf(x,y),centers) for y in data]\n",
    "\t\tdata_to_centroids = [min(enumerate(x),key=lambda x:x[1])[0] for x in distances]\n",
    "\t\t\n",
    "\t\tnew_centroids = map(\n",
    "\t\t\tcentersdf, \n",
    "\t\t\t[\n",
    "\t\t\t\tmap(\n",
    "\t\t\t\t\tlambda x: data[x[0]], \n",
    "\t\t\t\t\tfilter(\n",
    "\t\t\t\t\t\tlambda x: x[1]==y,\n",
    "\t\t\t\t\t\tenumerate(data_to_centroids)\n",
    "\t\t\t\t\t) \n",
    "\t\t\t\t)\n",
    "\t\t\t\tfor y in range(k)\n",
    "\t\t\t]\n",
    "\t\t)\n",
    "\t\t\n",
    "\t\tchanges = [distf(new_centroids[i],centers[i]) for i in range(k)]\n",
    "\t\t\n",
    "\t\tif max(changes)<=cutoff:\n",
    "\t\t\treturn centers,data_to_centroids,distances\n",
    "\t\t\n",
    "\t\tcenters = new_centroids\n",
    "\n",
    "def kmeans_euc(data,centers,cutoff):\n",
    "\treturn kmeans(data,centers,euc_dist,euc_centers_factory,cutoff)\n",
    "\n",
    "def kmeans_ham(data,centers,cutoff):\n",
    "\treturn kmeans(data,centers,ham_dist,ham_centers_factory,cutoff)"
   ]
  },
  {
   "cell_type": "code",
   "execution_count": 6,
   "metadata": {},
   "outputs": [
    {
     "ename": "TypeError",
     "evalue": "'map' object is not subscriptable",
     "output_type": "error",
     "traceback": [
      "\u001b[1;31m---------------------------------------------------------------------------\u001b[0m",
      "\u001b[1;31mTypeError\u001b[0m                                 Traceback (most recent call last)",
      "\u001b[1;32m~\\AppData\\Local\\Temp/ipykernel_10980/1889630525.py\u001b[0m in \u001b[0;36m<module>\u001b[1;34m\u001b[0m\n\u001b[1;32m----> 1\u001b[1;33m \u001b[0mkmeans_euclid\u001b[0m\u001b[1;33m(\u001b[0m\u001b[0mdata_df\u001b[0m\u001b[1;33m,\u001b[0m \u001b[0mlabel_df\u001b[0m\u001b[1;33m,\u001b[0m \u001b[1;36m0.1\u001b[0m\u001b[1;33m)\u001b[0m\u001b[1;33m\u001b[0m\u001b[1;33m\u001b[0m\u001b[0m\n\u001b[0m",
      "\u001b[1;32m~\\AppData\\Local\\Temp/ipykernel_10980/1826084899.py\u001b[0m in \u001b[0;36mkmeans_euclid\u001b[1;34m(data, centroids, cutoff)\u001b[0m\n\u001b[0;32m    108\u001b[0m \u001b[1;32mdef\u001b[0m \u001b[0mkmeans_euclid\u001b[0m\u001b[1;33m(\u001b[0m\u001b[0mdata\u001b[0m\u001b[1;33m,\u001b[0m\u001b[0mcentroids\u001b[0m\u001b[1;33m,\u001b[0m\u001b[0mcutoff\u001b[0m\u001b[1;33m)\u001b[0m\u001b[1;33m:\u001b[0m\u001b[1;33m\u001b[0m\u001b[1;33m\u001b[0m\u001b[0m\n\u001b[0;32m    109\u001b[0m         \u001b[1;34m\"\"\"Shortcut for kmeans clustering using euclidean distance\"\"\"\u001b[0m\u001b[1;33m\u001b[0m\u001b[1;33m\u001b[0m\u001b[0m\n\u001b[1;32m--> 110\u001b[1;33m         \u001b[1;32mreturn\u001b[0m \u001b[0mkmeans\u001b[0m\u001b[1;33m(\u001b[0m\u001b[0mdata\u001b[0m\u001b[1;33m,\u001b[0m\u001b[0mcentroids\u001b[0m\u001b[1;33m,\u001b[0m\u001b[0meuclid_dist\u001b[0m\u001b[1;33m,\u001b[0m\u001b[0meuclid_centroid_factory\u001b[0m\u001b[1;33m,\u001b[0m\u001b[0mcutoff\u001b[0m\u001b[1;33m)\u001b[0m\u001b[1;33m\u001b[0m\u001b[1;33m\u001b[0m\u001b[0m\n\u001b[0m\u001b[0;32m    111\u001b[0m \u001b[1;32mdef\u001b[0m \u001b[0mkmeans_hamming\u001b[0m\u001b[1;33m(\u001b[0m\u001b[0mdata\u001b[0m\u001b[1;33m,\u001b[0m\u001b[0mcentroids\u001b[0m\u001b[1;33m,\u001b[0m\u001b[0mcutoff\u001b[0m\u001b[1;33m)\u001b[0m\u001b[1;33m:\u001b[0m\u001b[1;33m\u001b[0m\u001b[1;33m\u001b[0m\u001b[0m\n\u001b[0;32m    112\u001b[0m         \u001b[1;34m\"\"\"Shortcut for kmeans clustering using hamming distance\"\"\"\u001b[0m\u001b[1;33m\u001b[0m\u001b[1;33m\u001b[0m\u001b[0m\n",
      "\u001b[1;32m~\\AppData\\Local\\Temp/ipykernel_10980/1826084899.py\u001b[0m in \u001b[0;36mkmeans\u001b[1;34m(data, centroids, distf, centroidf, cutoff)\u001b[0m\n\u001b[0;32m     99\u001b[0m \t\t)\n\u001b[0;32m    100\u001b[0m \u001b[1;33m\u001b[0m\u001b[0m\n\u001b[1;32m--> 101\u001b[1;33m                 \u001b[0mchanges\u001b[0m \u001b[1;33m=\u001b[0m \u001b[1;33m[\u001b[0m\u001b[0mdistf\u001b[0m\u001b[1;33m(\u001b[0m\u001b[0mnew_centroids\u001b[0m\u001b[1;33m[\u001b[0m\u001b[0mi\u001b[0m\u001b[1;33m]\u001b[0m\u001b[1;33m,\u001b[0m\u001b[0mcentroids\u001b[0m\u001b[1;33m[\u001b[0m\u001b[0mi\u001b[0m\u001b[1;33m]\u001b[0m\u001b[1;33m)\u001b[0m \u001b[1;32mfor\u001b[0m \u001b[0mi\u001b[0m \u001b[1;32min\u001b[0m \u001b[0mrange\u001b[0m\u001b[1;33m(\u001b[0m\u001b[0mk\u001b[0m\u001b[1;33m)\u001b[0m\u001b[1;33m]\u001b[0m\u001b[1;33m\u001b[0m\u001b[1;33m\u001b[0m\u001b[0m\n\u001b[0m\u001b[0;32m    102\u001b[0m \u001b[1;33m\u001b[0m\u001b[0m\n\u001b[0;32m    103\u001b[0m                 \u001b[1;32mif\u001b[0m \u001b[0mmax\u001b[0m\u001b[1;33m(\u001b[0m\u001b[0mchanges\u001b[0m\u001b[1;33m)\u001b[0m\u001b[1;33m<=\u001b[0m\u001b[0mcutoff\u001b[0m\u001b[1;33m:\u001b[0m\u001b[1;33m\u001b[0m\u001b[1;33m\u001b[0m\u001b[0m\n",
      "\u001b[1;32m~\\AppData\\Local\\Temp/ipykernel_10980/1826084899.py\u001b[0m in \u001b[0;36m<listcomp>\u001b[1;34m(.0)\u001b[0m\n\u001b[0;32m     99\u001b[0m \t\t)\n\u001b[0;32m    100\u001b[0m \u001b[1;33m\u001b[0m\u001b[0m\n\u001b[1;32m--> 101\u001b[1;33m                 \u001b[0mchanges\u001b[0m \u001b[1;33m=\u001b[0m \u001b[1;33m[\u001b[0m\u001b[0mdistf\u001b[0m\u001b[1;33m(\u001b[0m\u001b[0mnew_centroids\u001b[0m\u001b[1;33m[\u001b[0m\u001b[0mi\u001b[0m\u001b[1;33m]\u001b[0m\u001b[1;33m,\u001b[0m\u001b[0mcentroids\u001b[0m\u001b[1;33m[\u001b[0m\u001b[0mi\u001b[0m\u001b[1;33m]\u001b[0m\u001b[1;33m)\u001b[0m \u001b[1;32mfor\u001b[0m \u001b[0mi\u001b[0m \u001b[1;32min\u001b[0m \u001b[0mrange\u001b[0m\u001b[1;33m(\u001b[0m\u001b[0mk\u001b[0m\u001b[1;33m)\u001b[0m\u001b[1;33m]\u001b[0m\u001b[1;33m\u001b[0m\u001b[1;33m\u001b[0m\u001b[0m\n\u001b[0m\u001b[0;32m    102\u001b[0m \u001b[1;33m\u001b[0m\u001b[0m\n\u001b[0;32m    103\u001b[0m                 \u001b[1;32mif\u001b[0m \u001b[0mmax\u001b[0m\u001b[1;33m(\u001b[0m\u001b[0mchanges\u001b[0m\u001b[1;33m)\u001b[0m\u001b[1;33m<=\u001b[0m\u001b[0mcutoff\u001b[0m\u001b[1;33m:\u001b[0m\u001b[1;33m\u001b[0m\u001b[1;33m\u001b[0m\u001b[0m\n",
      "\u001b[1;31mTypeError\u001b[0m: 'map' object is not subscriptable"
     ]
    }
   ],
   "source": [
    "kmeans_euc(data_df, label_df, 0.1)\n",
    "kmeans_ham(data_df, label_df, 0.1)"
   ]
  }
 ],
 "metadata": {
  "kernelspec": {
   "display_name": "Python 3",
   "language": "python",
   "name": "python3"
  },
  "language_info": {
   "codemirror_mode": {
    "name": "ipython",
    "version": 3
   },
   "file_extension": ".py",
   "mimetype": "text/x-python",
   "name": "python",
   "nbconvert_exporter": "python",
   "pygments_lexer": "ipython3",
   "version": "3.10.0"
  },
  "orig_nbformat": 4
 },
 "nbformat": 4,
 "nbformat_minor": 2
}
